
# File: notebooks/SpaceX_Machine Learning Prediction_Part_5.ipynb
# Prepare model names and their corresponding test accuracies
model_names = ['Logistic Regression', 'SVM', 'Decision Tree', 'KNN']
accuracies = [test_accuracy, test_accuracy1, test_accuracy2, test_accuracy3]

# Plot bar chart
plt.figure(figsize=(8, 5))
sns.barplot(x=model_names, y=accuracies, palette='viridis')
plt.ylim(0, 1.1)
plt.ylabel('Test Accuracy')
plt.title('Test Accuracy of Classification Models')
plt.show()
